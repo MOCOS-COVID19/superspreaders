{
 "cells": [
  {
   "cell_type": "markdown",
   "metadata": {},
   "source": [
    "## Instalation of necessary packages"
   ]
  },
  {
   "cell_type": "code",
   "execution_count": 1,
   "metadata": {},
   "outputs": [
    {
     "name": "stdout",
     "output_type": "stream",
     "text": [
      "Requirement already satisfied: beautifulsoup4 in c:\\programdata\\anaconda3\\lib\\site-packages (4.8.2)\n",
      "Requirement already satisfied: soupsieve>=1.2 in c:\\programdata\\anaconda3\\lib\\site-packages (from beautifulsoup4) (1.9.5)\n"
     ]
    }
   ],
   "source": [
    "# Installation of beautifulsoup\n",
    "!pip install beautifulsoup4"
   ]
  },
  {
   "cell_type": "code",
   "execution_count": 2,
   "metadata": {},
   "outputs": [
    {
     "name": "stdout",
     "output_type": "stream",
     "text": [
      "Requirement already satisfied: google in c:\\programdata\\anaconda3\\lib\\site-packages (3.0.0)\n",
      "Requirement already satisfied: beautifulsoup4 in c:\\programdata\\anaconda3\\lib\\site-packages (from google) (4.8.2)\n",
      "Requirement already satisfied: soupsieve>=1.2 in c:\\programdata\\anaconda3\\lib\\site-packages (from beautifulsoup4->google) (1.9.5)\n"
     ]
    }
   ],
   "source": [
    "!pip install google"
   ]
  },
  {
   "cell_type": "code",
   "execution_count": 13,
   "metadata": {},
   "outputs": [
    {
     "name": "stdout",
     "output_type": "stream",
     "text": [
      "Processing c:\\users\\pipluta\\appdata\\local\\pip\\cache\\wheels\\9d\\d6\\f8\\a1eb36ec4a84e8fe332d48619099c6cfb4411532459a986ff5\\news_please-1.5.3-py3-none-any.whl\n",
      "Requirement already satisfied: six>=1.10.0 in c:\\programdata\\anaconda3\\lib\\site-packages (from news-please) (1.14.0)\n",
      "Requirement already satisfied: newspaper3k>=0.2.8 in c:\\programdata\\anaconda3\\lib\\site-packages (from news-please) (0.2.8)\n",
      "Requirement already satisfied: warcio>=1.3.3 in c:\\programdata\\anaconda3\\lib\\site-packages (from news-please) (1.7.4)\n",
      "Requirement already satisfied: ago>=0.0.9 in c:\\programdata\\anaconda3\\lib\\site-packages (from news-please) (0.0.93)\n",
      "Requirement already satisfied: Scrapy>=1.1.0 in c:\\programdata\\anaconda3\\lib\\site-packages (from news-please) (2.3.0)\n",
      "Requirement already satisfied: readability-lxml>=0.6.2 in c:\\programdata\\anaconda3\\lib\\site-packages (from news-please) (0.8.1)\n",
      "Requirement already satisfied: python-dateutil>=2.4.0 in c:\\programdata\\anaconda3\\lib\\site-packages (from news-please) (2.8.1)\n",
      "Requirement already satisfied: pywin32>=220; sys_platform == \"win32\" in c:\\programdata\\anaconda3\\lib\\site-packages (from news-please) (227)\n",
      "Requirement already satisfied: bs4 in c:\\programdata\\anaconda3\\lib\\site-packages (from news-please) (0.0.1)\n",
      "Requirement already satisfied: lxml>=3.3.5 in c:\\programdata\\anaconda3\\lib\\site-packages (from news-please) (4.5.0)\n",
      "Requirement already satisfied: elasticsearch>=2.4 in c:\\programdata\\anaconda3\\lib\\site-packages (from news-please) (7.8.1)\n",
      "Requirement already satisfied: PyMySQL>=0.7.9 in c:\\programdata\\anaconda3\\lib\\site-packages (from news-please) (0.10.0)\n",
      "Requirement already satisfied: beautifulsoup4>=4.3.2 in c:\\programdata\\anaconda3\\lib\\site-packages (from news-please) (4.8.2)\n",
      "Requirement already satisfied: hurry.filesize>=0.9 in c:\\programdata\\anaconda3\\lib\\site-packages (from news-please) (0.9)\n",
      "Requirement already satisfied: psycopg2-binary>=2.8.4 in c:\\programdata\\anaconda3\\lib\\site-packages (from news-please) (2.8.5)\n",
      "Requirement already satisfied: langdetect>=1.0.7 in c:\\programdata\\anaconda3\\lib\\site-packages (from news-please) (1.0.8)\n",
      "Requirement already satisfied: plac>=0.9.6 in c:\\programdata\\anaconda3\\lib\\site-packages (from news-please) (1.2.0)\n",
      "Requirement already satisfied: dotmap>=1.2.17 in c:\\programdata\\anaconda3\\lib\\site-packages (from news-please) (1.3.17)\n",
      "Collecting awscli>=1.11.117\n",
      "  Using cached awscli-1.18.120-py2.py3-none-any.whl (3.3 MB)\n",
      "Requirement already satisfied: hjson>=1.5.8 in c:\\programdata\\anaconda3\\lib\\site-packages (from news-please) (3.0.1)\n",
      "Requirement already satisfied: PyDispatcher>=2.0.5 in c:\\programdata\\anaconda3\\lib\\site-packages (from news-please) (2.0.5)\n",
      "Requirement already satisfied: jieba3k>=0.35.1 in c:\\programdata\\anaconda3\\lib\\site-packages (from newspaper3k>=0.2.8->news-please) (0.35.1)\n",
      "Requirement already satisfied: cssselect>=0.9.2 in c:\\programdata\\anaconda3\\lib\\site-packages (from newspaper3k>=0.2.8->news-please) (1.1.0)\n",
      "Requirement already satisfied: feedfinder2>=0.0.4 in c:\\programdata\\anaconda3\\lib\\site-packages (from newspaper3k>=0.2.8->news-please) (0.0.4)\n",
      "Requirement already satisfied: requests>=2.10.0 in c:\\programdata\\anaconda3\\lib\\site-packages (from newspaper3k>=0.2.8->news-please) (2.22.0)\n",
      "Requirement already satisfied: Pillow>=3.3.0 in c:\\programdata\\anaconda3\\lib\\site-packages (from newspaper3k>=0.2.8->news-please) (7.0.0)\n",
      "Requirement already satisfied: nltk>=3.2.1 in c:\\programdata\\anaconda3\\lib\\site-packages (from newspaper3k>=0.2.8->news-please) (3.4.5)\n",
      "Requirement already satisfied: tldextract>=2.0.1 in c:\\programdata\\anaconda3\\lib\\site-packages (from newspaper3k>=0.2.8->news-please) (2.2.3)\n",
      "Requirement already satisfied: tinysegmenter==0.3 in c:\\programdata\\anaconda3\\lib\\site-packages (from newspaper3k>=0.2.8->news-please) (0.3)\n",
      "Requirement already satisfied: PyYAML>=3.11 in c:\\programdata\\anaconda3\\lib\\site-packages (from newspaper3k>=0.2.8->news-please) (5.3)\n",
      "Requirement already satisfied: feedparser>=5.2.1 in c:\\programdata\\anaconda3\\lib\\site-packages (from newspaper3k>=0.2.8->news-please) (5.2.1)\n",
      "Requirement already satisfied: parsel>=1.5.0 in c:\\programdata\\anaconda3\\lib\\site-packages (from Scrapy>=1.1.0->news-please) (1.6.0)\n",
      "Requirement already satisfied: service-identity>=16.0.0 in c:\\programdata\\anaconda3\\lib\\site-packages (from Scrapy>=1.1.0->news-please) (18.1.0)\n",
      "Requirement already satisfied: zope.interface>=4.1.3 in c:\\programdata\\anaconda3\\lib\\site-packages (from Scrapy>=1.1.0->news-please) (5.1.0)\n",
      "Requirement already satisfied: itemadapter>=0.1.0 in c:\\programdata\\anaconda3\\lib\\site-packages (from Scrapy>=1.1.0->news-please) (0.1.0)\n",
      "Requirement already satisfied: pyOpenSSL>=16.2.0 in c:\\programdata\\anaconda3\\lib\\site-packages (from Scrapy>=1.1.0->news-please) (19.1.0)\n",
      "Requirement already satisfied: cryptography>=2.0 in c:\\programdata\\anaconda3\\lib\\site-packages (from Scrapy>=1.1.0->news-please) (2.8)\n",
      "Requirement already satisfied: protego>=0.1.15 in c:\\programdata\\anaconda3\\lib\\site-packages (from Scrapy>=1.1.0->news-please) (0.1.16)\n",
      "Requirement already satisfied: w3lib>=1.17.0 in c:\\programdata\\anaconda3\\lib\\site-packages (from Scrapy>=1.1.0->news-please) (1.22.0)\n",
      "Requirement already satisfied: queuelib>=1.4.2 in c:\\programdata\\anaconda3\\lib\\site-packages (from Scrapy>=1.1.0->news-please) (1.5.0)\n",
      "Requirement already satisfied: Twisted>=17.9.0 in c:\\programdata\\anaconda3\\lib\\site-packages (from Scrapy>=1.1.0->news-please) (20.3.0)\n",
      "Requirement already satisfied: itemloaders>=1.0.1 in c:\\programdata\\anaconda3\\lib\\site-packages (from Scrapy>=1.1.0->news-please) (1.0.2)\n",
      "Requirement already satisfied: chardet in c:\\programdata\\anaconda3\\lib\\site-packages (from readability-lxml>=0.6.2->news-please) (3.0.4)\n",
      "Requirement already satisfied: certifi in c:\\programdata\\anaconda3\\lib\\site-packages (from elasticsearch>=2.4->news-please) (2019.11.28)\n",
      "Requirement already satisfied: urllib3>=1.21.1 in c:\\programdata\\anaconda3\\lib\\site-packages (from elasticsearch>=2.4->news-please) (1.25.8)\n",
      "Requirement already satisfied: soupsieve>=1.2 in c:\\programdata\\anaconda3\\lib\\site-packages (from beautifulsoup4>=4.3.2->news-please) (1.9.5)\n",
      "Requirement already satisfied: setuptools in c:\\programdata\\anaconda3\\lib\\site-packages (from hurry.filesize>=0.9->news-please) (45.2.0.post20200210)\n",
      "Requirement already satisfied: colorama<0.4.4,>=0.2.5; python_version != \"3.4\" in c:\\programdata\\anaconda3\\lib\\site-packages (from awscli>=1.11.117->news-please) (0.4.3)\n",
      "Collecting s3transfer<0.4.0,>=0.3.0\n",
      "  Using cached s3transfer-0.3.3-py2.py3-none-any.whl (69 kB)\n",
      "Collecting docutils<0.16,>=0.10\n",
      "  Using cached docutils-0.15.2-py3-none-any.whl (547 kB)\n",
      "Requirement already satisfied: rsa<=4.5.0,>=3.1.2; python_version != \"3.4\" in c:\\programdata\\anaconda3\\lib\\site-packages (from awscli>=1.11.117->news-please) (4.5)\n",
      "Collecting botocore==1.17.43\n",
      "  Using cached botocore-1.17.43-py2.py3-none-any.whl (6.5 MB)\n",
      "Requirement already satisfied: idna<2.9,>=2.5 in c:\\programdata\\anaconda3\\lib\\site-packages (from requests>=2.10.0->newspaper3k>=0.2.8->news-please) (2.8)\n",
      "Requirement already satisfied: requests-file>=1.4 in c:\\programdata\\anaconda3\\lib\\site-packages (from tldextract>=2.0.1->newspaper3k>=0.2.8->news-please) (1.5.1)\n",
      "Requirement already satisfied: pyasn1 in c:\\programdata\\anaconda3\\lib\\site-packages (from service-identity>=16.0.0->Scrapy>=1.1.0->news-please) (0.4.8)\n",
      "Requirement already satisfied: pyasn1-modules in c:\\programdata\\anaconda3\\lib\\site-packages (from service-identity>=16.0.0->Scrapy>=1.1.0->news-please) (0.2.8)\n",
      "Requirement already satisfied: attrs>=16.0.0 in c:\\programdata\\anaconda3\\lib\\site-packages (from service-identity>=16.0.0->Scrapy>=1.1.0->news-please) (19.3.0)\n",
      "Requirement already satisfied: cffi!=1.11.3,>=1.8 in c:\\programdata\\anaconda3\\lib\\site-packages (from cryptography>=2.0->Scrapy>=1.1.0->news-please) (1.14.0)\n",
      "Requirement already satisfied: incremental>=16.10.1 in c:\\programdata\\anaconda3\\lib\\site-packages (from Twisted>=17.9.0->Scrapy>=1.1.0->news-please) (17.5.0)\n",
      "Requirement already satisfied: Automat>=0.3.0 in c:\\programdata\\anaconda3\\lib\\site-packages (from Twisted>=17.9.0->Scrapy>=1.1.0->news-please) (20.2.0)\n",
      "Requirement already satisfied: PyHamcrest!=1.10.0,>=1.9.0 in c:\\programdata\\anaconda3\\lib\\site-packages (from Twisted>=17.9.0->Scrapy>=1.1.0->news-please) (2.0.2)\n",
      "Requirement already satisfied: constantly>=15.1 in c:\\programdata\\anaconda3\\lib\\site-packages (from Twisted>=17.9.0->Scrapy>=1.1.0->news-please) (15.1.0)\n",
      "Requirement already satisfied: hyperlink>=17.1.1 in c:\\programdata\\anaconda3\\lib\\site-packages (from Twisted>=17.9.0->Scrapy>=1.1.0->news-please) (20.0.1)\n",
      "Requirement already satisfied: jmespath>=0.9.5 in c:\\programdata\\anaconda3\\lib\\site-packages (from itemloaders>=1.0.1->Scrapy>=1.1.0->news-please) (0.10.0)\n",
      "Requirement already satisfied: pycparser in c:\\programdata\\anaconda3\\lib\\site-packages (from cffi!=1.11.3,>=1.8->cryptography>=2.0->Scrapy>=1.1.0->news-please) (2.19)\n",
      "Installing collected packages: docutils, botocore, s3transfer, awscli, news-please\n",
      "  Attempting uninstall: docutils\n",
      "    Found existing installation: docutils 0.16\n",
      "    Uninstalling docutils-0.16:\n"
     ]
    },
    {
     "name": "stderr",
     "output_type": "stream",
     "text": [
      "ERROR: Could not install packages due to an EnvironmentError: [WinError 5] Access is denied: 'c:\\\\programdata\\\\anaconda3\\\\lib\\\\site-packages\\\\docutils-0.16.dist-info\\\\COPYING.txt'\n",
      "Consider using the `--user` option or check the permissions.\n",
      "\n"
     ]
    }
   ],
   "source": [
    "!pip install news-please"
   ]
  },
  {
   "cell_type": "code",
   "execution_count": 1,
   "metadata": {},
   "outputs": [],
   "source": [
    "# Check if google package w\n",
    "try: \n",
    "    from googlesearch import search \n",
    "except ImportError:  \n",
    "    print(\"No module named 'google' found\") "
   ]
  },
  {
   "cell_type": "markdown",
   "metadata": {},
   "source": [
    "## Imports\n"
   ]
  },
  {
   "cell_type": "code",
   "execution_count": 2,
   "metadata": {},
   "outputs": [],
   "source": [
    "from googlesearch import search"
   ]
  },
  {
   "cell_type": "markdown",
   "metadata": {},
   "source": [
    "## Make a search and store links in list\n"
   ]
  },
  {
   "cell_type": "code",
   "execution_count": 6,
   "metadata": {},
   "outputs": [
    {
     "name": "stdout",
     "output_type": "stream",
     "text": [
      "https://wroclaw.wyborcza.pl/wroclaw/7,35771,26231183,ognisko-koronawirusa-na-pogotowiu-jest-wiecej-zakazonych.html\n",
      "https://m.sadeczanin.info/wiadomosci/nowy-sacz-ognisko-koronawirusa-w-dps-sa-juz-wyniki-badan\n",
      "https://konkret24.tvn24.pl/zdrowie,110/ogniska-koronawirusa-w-polsce-gdzie-wystepuja-najczesciej,1025181.html\n",
      "https://wroclaw.wp.pl/koronawirus-w-polsce-ognisko-covid-19-we-wroclawiu-nie-zarazila-sie-tylko-jedna-osoba-6544288119016064a\n",
      "https://www.o2.pl/informacje/ogromne-ognisko-koronawirusa-na-obozie-ponad-260-zakazonych-6538365774961376a\n",
      "https://www.o2.pl/informacje/ognisko-koronawirusa-w-gdansku-kilkunastu-marynarzy-zakazonych-6542284746463808a\n",
      "https://zdrowie.wprost.pl/koronawirus/w-polsce/10351289/ogniska-koronawirusa-na-mazowszu-zaklady-pracy-dps-szpital-i-kilka-po-imprezach-rodzinnych.html\n",
      "https://turysci.pl/wiadomosci-010820-pk-koronawirus\n",
      "https://www.money.pl/gospodarka/nowe-ognisko-koronawirusa-przebadano-800-osob-uruchomiono-mobilna-stacje-6539775208421505a.html\n",
      "https://starogardgdanski.naszemiasto.pl/ognisko-koronawirusa-w-powiecie-starogardzkim/ar/c1-7845916\n"
     ]
    }
   ],
   "source": [
    "# to search \n",
    "query = \"ognisko koronawirusa\"\n",
    "links = []\n",
    "for j in search(query, tld=\"com\", num=10, stop=10, pause=2): \n",
    "    print(j)\n",
    "    links.append(j)"
   ]
  },
  {
   "cell_type": "code",
   "execution_count": 9,
   "metadata": {},
   "outputs": [],
   "source": [
    "def search_for_events(query = \"ognisko koronawirusa\", start=0, stop=50, num=10):\n",
    "    links = []\n",
    "    for link in search(query, lang=\"pl\", num=num, start=start, stop=stop):\n",
    "        links.append(link)\n",
    "    return links"
   ]
  },
  {
   "cell_type": "code",
   "execution_count": null,
   "metadata": {},
   "outputs": [],
   "source": [
    "start = 50\n",
    "stop = start + 50\n",
    "links = search_for_events(start=start, stop=stop)"
   ]
  },
  {
   "cell_type": "code",
   "execution_count": 11,
   "metadata": {},
   "outputs": [],
   "source": [
    "from pathlib import Path\n",
    "links_file_path = Path('.').resolve().parent / 'data' / 'links.csv'"
   ]
  },
  {
   "cell_type": "code",
   "execution_count": 12,
   "metadata": {},
   "outputs": [
    {
     "data": {
      "text/plain": [
       "WindowsPath('E:/projects/superspreaders/data/links.csv')"
      ]
     },
     "execution_count": 12,
     "metadata": {},
     "output_type": "execute_result"
    }
   ],
   "source": [
    "links_file_path"
   ]
  },
  {
   "cell_type": "code",
   "execution_count": 25,
   "metadata": {},
   "outputs": [],
   "source": [
    "with links_file_path.open('a') as output_file:\n",
    "    output_file.write('\\n'.join(links) + '\\n')"
   ]
  },
  {
   "cell_type": "code",
   "execution_count": 16,
   "metadata": {},
   "outputs": [
    {
     "data": {
      "text/plain": [
       "['https://wroclaw.wyborcza.pl/wroclaw/7,35771,26231183,ognisko-koronawirusa-na-pogotowiu-jest-wiecej-zakazonych.html',\n",
       " 'https://m.sadeczanin.info/wiadomosci/nowy-sacz-ognisko-koronawirusa-w-dps-sa-juz-wyniki-badan',\n",
       " 'https://konkret24.tvn24.pl/zdrowie,110/ogniska-koronawirusa-w-polsce-gdzie-wystepuja-najczesciej,1025181.html',\n",
       " 'https://wroclaw.wp.pl/koronawirus-w-polsce-ognisko-covid-19-we-wroclawiu-nie-zarazila-sie-tylko-jedna-osoba-6544288119016064a',\n",
       " 'https://www.o2.pl/informacje/ogromne-ognisko-koronawirusa-na-obozie-ponad-260-zakazonych-6538365774961376a',\n",
       " 'https://www.o2.pl/informacje/ognisko-koronawirusa-w-gdansku-kilkunastu-marynarzy-zakazonych-6542284746463808a',\n",
       " 'https://zdrowie.wprost.pl/koronawirus/w-polsce/10351289/ogniska-koronawirusa-na-mazowszu-zaklady-pracy-dps-szpital-i-kilka-po-imprezach-rodzinnych.html',\n",
       " 'https://turysci.pl/wiadomosci-010820-pk-koronawirus',\n",
       " 'https://www.money.pl/gospodarka/nowe-ognisko-koronawirusa-przebadano-800-osob-uruchomiono-mobilna-stacje-6539775208421505a.html',\n",
       " 'https://starogardgdanski.naszemiasto.pl/ognisko-koronawirusa-w-powiecie-starogardzkim/ar/c1-7845916']"
      ]
     },
     "execution_count": 16,
     "metadata": {},
     "output_type": "execute_result"
    }
   ],
   "source": [
    "links"
   ]
  },
  {
   "cell_type": "code",
   "execution_count": 26,
   "metadata": {},
   "outputs": [
    {
     "name": "stdout",
     "output_type": "stream",
     "text": [
      "https://m.sadeczanin.info/wiadomosci/nowy-sacz-ognisko-koronawirusa-w-dps-sa-juz-wyniki-badan\n"
     ]
    }
   ],
   "source": [
    "link = links[1]\n",
    "print(link)"
   ]
  },
  {
   "cell_type": "code",
   "execution_count": 27,
   "metadata": {},
   "outputs": [
    {
     "name": "stdout",
     "output_type": "stream",
     "text": [
      "Nowy Sącz: ognisko koronawirusa w DPS. Są już wyniki badań\n",
      "Prezydent miasta Ludomir Handzel informował wczoraj o tym, że znane są wyniki 90 z 275 osób, od których w środę zostały pobrane wymazy w kierunku SARS-CoV-2.\n",
      "W piątek wiadomo było już o trzydziestu osobach – 26 pensjonariuszach i czterech pracownikach wspomnianego DPS, u których badania laboratoryjne potwierdziły zakażenie koronawirusem.\n",
      "Gospodarz miasta informował mieszkańców również o tym, że w związku z pojawieniem się ogniska koronawirusa wszystko odbywa się zgodnie z procedurami, aby zapanować nad ogniskiem i uniemożliwić dalsze rozprzestrzenianie się zakażenia.\n",
      "Prezydent Handzel zapewnił wczoraj mieszkańców, że od 12 marca pensjonariusze nie opuszczali Domu Pomocy Społecznej.\n",
      "Dzisiaj znane są już wszystkie wyniki 275 przebadanych osób.\n",
      "- Liczba osób z potwierdzonym wynikiem to szesnastu pracowników DPS i siedemdziesięcioro mieszkańców – powiedziała portalowi Sądeczanin.info, Luiza Piątkiewicz, dyrektor Miejskiego Ośrodka Pomocy Społecznej w Nowym Sączu. - Zakażeni mieszkańcy zostali odizolowani od osób zdrowych i poddani izolacji w jednym z budynków, a część osób z pozytywnym wynikiem objętych jest izolacją domową.\n",
      "Kwarantanną domową zostały objęte 42 osoby, które miały styczność z osobami zakażonymi. One muszą bacznie monitorować stan swojego zdrowia.\n",
      "Szefowa sądeckiego MOPS informuje również, że decyzją lekarza do pobytu w szpitalu zakwalifikowano 10 pensjonariuszy ze względu na choroby współistniejące. Wczoraj transport medyczny przetransportował do szpitala siedem z nich. Dzisiaj do szpitala mają trafić pozostałe osoby.\n",
      "- Wszystkie zarażone osoby czują się dobrze. Obecnie nie mają żadnych objawów – dodaje Luiza Piątkiewicz..\n",
      "Ze względów bezpieczeństwa podjęto decyzję o zamknięciu kuchni i zleceniu żywienia w formie cateringu firmie zewnętrznej.\n",
      "[email protected], fot. arch. Sadeczanin.info – zdjęcie ilustracyjne.\n"
     ]
    }
   ],
   "source": [
    "from newsplease import NewsPlease\n",
    "article = NewsPlease.from_url(link)\n",
    "print(article.title)\n",
    "print(article.maintext)"
   ]
  },
  {
   "cell_type": "code",
   "execution_count": 28,
   "metadata": {},
   "outputs": [
    {
     "data": {
      "text/plain": [
       "{'authors': [],\n",
       " 'date_download': datetime.datetime(2020, 8, 24, 0, 8, 29),\n",
       " 'date_modify': None,\n",
       " 'date_publish': datetime.datetime(2020, 8, 22, 16, 7, 50),\n",
       " 'description': 'Do Nowego Sącza dotarły już wszystkie wyniki badań pensjonariuszy oraz pracowników jednego z Domów Pomocy Społecznej przy ul. Nawojowskiej w Nowym Sączu, w którym wykryto ognisko koronawirusa. - Łącznie wykonano 275 testów – mówi Luiza Piątkiewicz, dyrektor Miejskiego Ośrodka Pomocy Społecznej w Nowym Sączu. – Spośród tych osób mamy 16 pracowników oraz 70 mieszkańców z potwierdzonym dodatnim wynikiem.',\n",
       " 'filename': 'https%3A%2F%2Fm.sadeczanin.info%2Fwiadomosci%2Fnowy-sacz-ognisko-koronawirusa-w-dps-sa-juz-wyniki-badan.json',\n",
       " 'image_url': 'https://sadeczanin.info/sites/default/files/icons/wymazy_nowy_sacz_15_lipca_2020_6_0_1_0.jpg',\n",
       " 'language': 'pl',\n",
       " 'localpath': None,\n",
       " 'title': 'Nowy Sącz: ognisko koronawirusa w DPS. Są już wyniki badań',\n",
       " 'title_page': None,\n",
       " 'title_rss': None,\n",
       " 'source_domain': 'm.sadeczanin.info',\n",
       " 'maintext': 'Prezydent miasta Ludomir Handzel informował wczoraj o tym, że znane są wyniki 90 z 275 osób, od których w środę zostały pobrane wymazy w kierunku SARS-CoV-2.\\nW piątek wiadomo było już o trzydziestu osobach – 26 pensjonariuszach i czterech pracownikach wspomnianego DPS, u których badania laboratoryjne potwierdziły zakażenie koronawirusem.\\nGospodarz miasta informował mieszkańców również o tym, że w związku z pojawieniem się ogniska koronawirusa wszystko odbywa się zgodnie z procedurami, aby zapanować nad ogniskiem i uniemożliwić dalsze rozprzestrzenianie się zakażenia.\\nPrezydent Handzel zapewnił wczoraj mieszkańców, że od 12 marca pensjonariusze nie opuszczali Domu Pomocy Społecznej.\\nDzisiaj znane są już wszystkie wyniki 275 przebadanych osób.\\n- Liczba osób z potwierdzonym wynikiem to szesnastu pracowników DPS i siedemdziesięcioro mieszkańców – powiedziała portalowi Sądeczanin.info, Luiza Piątkiewicz, dyrektor Miejskiego Ośrodka Pomocy Społecznej w Nowym Sączu. - Zakażeni mieszkańcy zostali odizolowani od osób zdrowych i poddani izolacji w jednym z budynków, a część osób z pozytywnym wynikiem objętych jest izolacją domową.\\nKwarantanną domową zostały objęte 42 osoby, które miały styczność z osobami zakażonymi. One muszą bacznie monitorować stan swojego zdrowia.\\nSzefowa sądeckiego MOPS informuje również, że decyzją lekarza do pobytu w szpitalu zakwalifikowano 10 pensjonariuszy ze względu na choroby współistniejące. Wczoraj transport medyczny przetransportował do szpitala siedem z nich. Dzisiaj do szpitala mają trafić pozostałe osoby.\\n- Wszystkie zarażone osoby czują się dobrze. Obecnie nie mają żadnych objawów – dodaje Luiza Piątkiewicz..\\nZe względów bezpieczeństwa podjęto decyzję o zamknięciu kuchni i zleceniu żywienia w formie cateringu firmie zewnętrznej.\\n[email protected], fot. arch. Sadeczanin.info – zdjęcie ilustracyjne.',\n",
       " 'url': 'https://m.sadeczanin.info/wiadomosci/nowy-sacz-ognisko-koronawirusa-w-dps-sa-juz-wyniki-badan'}"
      ]
     },
     "execution_count": 28,
     "metadata": {},
     "output_type": "execute_result"
    }
   ],
   "source": [
    "article.__dict__"
   ]
  },
  {
   "cell_type": "code",
   "execution_count": null,
   "metadata": {},
   "outputs": [],
   "source": []
  }
 ],
 "metadata": {
  "kernelspec": {
   "display_name": "Python 3",
   "language": "python",
   "name": "python3"
  },
  "language_info": {
   "codemirror_mode": {
    "name": "ipython",
    "version": 3
   },
   "file_extension": ".py",
   "mimetype": "text/x-python",
   "name": "python",
   "nbconvert_exporter": "python",
   "pygments_lexer": "ipython3",
   "version": "3.7.7"
  }
 },
 "nbformat": 4,
 "nbformat_minor": 4
}
